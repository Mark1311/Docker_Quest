{
 "cells": [
  {
   "cell_type": "markdown",
   "id": "17350d06-a45f-4c5d-8413-2e9f3dc81258",
   "metadata": {},
   "source": [
    "# Docker"
   ]
  },
  {
   "cell_type": "markdown",
   "id": "fd13a969-a838-46e7-8818-f2f4469c3797",
   "metadata": {},
   "source": [
    "## What is Docker?"
   ]
  },
  {
   "cell_type": "markdown",
   "id": "a28f0018-688e-4beb-8899-e855c99788dc",
   "metadata": {},
   "source": [
    "Docker ek platform hai jo developers ko software applications ko container mein package karne, distribute karne aur run karne mein madad karta hai. Container ek lightweight aur isolated environment hota hai jisme aap apni applications aur unki dependencies ko ek saath bundle kar sakte ho. Iska faida ye hai ki jo software ek system pe properly kaam karta hai, wo doosre systems pe bhi same tarike se kaam karega, chahe wo development machine ho, testing environment ho ya production server ho."
   ]
  },
  {
   "cell_type": "markdown",
   "id": "8b47e6d3-e6bd-4b39-9242-9d7a811510d1",
   "metadata": {},
   "source": [
    "## Docker ke kuch key features:"
   ]
  },
  {
   "cell_type": "markdown",
   "id": "2832f1bb-4d0d-40b2-8a27-902ae6c9dd60",
   "metadata": {},
   "source": [
    "* Containers: \n",
    "\n",
    "Ye applications ko lightweight aur isolated manner mein run karte hain.\n",
    "\n",
    "* Portability: \n",
    "\n",
    "Docker container ko kahin bhi run kiya ja sakta hai, chahe wo developer ka machine ho ya cloud environment.\n",
    "\n",
    "* Scalability: \n",
    "\n",
    "Docker ko easily scale kiya ja sakta hai jab zarurat ho.\n",
    "\n",
    "* Efficiency: \n",
    "\n",
    "Docker resources ko efficiently use karta hai, jaise ki CPU aur memory.\n"
   ]
  },
  {
   "cell_type": "markdown",
   "id": "89b3f44a-e77b-4dc8-93c3-d0f16d619a7f",
   "metadata": {},
   "source": [
    "# Docker Kya Hai?"
   ]
  },
  {
   "cell_type": "markdown",
   "id": "bd44bf8d-61c2-4dca-8b9c-bed9593dbbb7",
   "metadata": {},
   "source": [
    "Docker ek open-source platform hai jo containerization technology par kaam karta hai. Iska main purpose hai software applications ko ek standardized format mein package karna, taaki woh har environment mein easily chal sakein. Matlab, aap jo application apne local machine par run kar rahe hain, woh bilkul wahi application aapke production server pe bhi run kar sakta hai, bina kisi issue ke."
   ]
  },
  {
   "cell_type": "markdown",
   "id": "9c34b21a-4261-4275-8bd9-3559b75cb375",
   "metadata": {},
   "source": [
    "# Containerization Kya Hai?"
   ]
  },
  {
   "cell_type": "markdown",
   "id": "87c5989c-3afb-481a-b8b0-3f9a2b1f5efe",
   "metadata": {},
   "source": [
    "Containerization ek technology / process hai jisme application aur uske dependencies (libraries, config files, runtime, etc.) ko ek single portable unit (container) ke andar pack kar diya jata hai."
   ]
  },
  {
   "cell_type": "markdown",
   "id": "921eaf1a-5db3-4520-be9d-652af96e8e1b",
   "metadata": {},
   "source": [
    "Container ek lightweight aur isolated environment hai. Aap ismein apne application ko run karte ho, uske saath saath uski dependencies bhi include kar lete ho (jaise ki libraries, packages, configurations, etc.). Iska matlab hai ki aapko har bar naye environment ko setup karne ki zarurat nahi padti, aur aapka software har jaga same tarike se kaam karta hai."
   ]
  },
  {
   "cell_type": "markdown",
   "id": "06ee7b2c-bda2-4ac8-8f8f-52e3cab00670",
   "metadata": {},
   "source": [
    "# Why We Need Docker?"
   ]
  },
  {
   "cell_type": "markdown",
   "id": "43dfaf5c-753f-4919-bd17-64c1b2dd72c1",
   "metadata": {},
   "source": [
    "### 🔹 Problem Before Docker (Docker se pehle wali duniya 😅)"
   ]
  },
  {
   "cell_type": "markdown",
   "id": "a56e49bb-a5b3-4c37-b326-72e83fc0a35f",
   "metadata": {},
   "source": [
    "1. \"Mere system pe chal raha hai\" problem\n",
    "\n",
    "* Developer ke laptop pe app sahi chalti hai.\n",
    "\n",
    "* Jab server pe deploy karte ho to error deta hai.\n",
    "\n",
    "* Kyun? → dependencies, libraries, OS version, configuration mismatch.\n",
    "\n",
    "2. Environment Setup ka Jhanjhat\n",
    "\n",
    "* Har system me Python/Node/Java version alag ho sakta hai.\n",
    "\n",
    "* Database version mismatch → app crash.\n",
    "\n",
    "* Manual setup karna → time waste + errors.\n",
    "\n",
    "3. Virtual Machines (VMs) Heavy the\n",
    "\n",
    "* Pehle log VM use karte the (VMware, VirtualBox, Hyper-V).\n",
    "\n",
    "* Problem:\n",
    "\n",
    "    * Har VM ek pura OS load karta tha (Linux/Windows).\n",
    "\n",
    "    * Heavy → zyada RAM, CPU, disk space lagta tha.\n",
    "\n",
    "    * Start hone me minutes lagte the.\n",
    "\n",
    "4. Deployment Inconsistency\n",
    "\n",
    "* Dev → Test → Prod me alag-alag environment.\n",
    "\n",
    "* Ek bug fix dev me sahi hai, prod me fail ho jata hai."
   ]
  },
  {
   "cell_type": "markdown",
   "id": "66ef4050-aa83-4d4e-af11-9ada3eddf0f2",
   "metadata": {},
   "source": [
    "### 🔹 Docker Kya Solve Karta Hai?"
   ]
  },
  {
   "cell_type": "markdown",
   "id": "ad809eef-fad3-4b91-98ec-83bb748b7395",
   "metadata": {},
   "source": [
    "1. Consistency\n",
    "\n",
    "* Docker container ke andar app + dependencies + configs pack hote hain.\n",
    "\n",
    "* Kahin bhi le jao → same environment, no mismatch.\n",
    "\n",
    "2. Lightweight Alternative to VM\n",
    "\n",
    "* Docker host OS ka kernel share karta hai → alag OS load nahi hota.\n",
    "\n",
    "* Start hone me seconds lagte hain (VM me minutes).\n",
    "\n",
    "3. Easy Deployment & Scalability\n",
    "\n",
    "* Docker image banao → Container run karo.\n",
    "\n",
    "* Cloud, local, server → sab jagah same tarike se chalega.\n",
    "\n",
    "* Load badha to multiple containers chala do.\n",
    "\n",
    "4. Faster Development & CI/CD\n",
    "\n",
    "* Developer quickly environment setup karke coding start kar sakta hai.\n",
    "\n",
    "* Testing aur deployment automated pipelines me easily integrate hota hai."
   ]
  },
  {
   "cell_type": "markdown",
   "id": "ffccadc4-fabf-4982-b9be-9d6d4f97cd82",
   "metadata": {},
   "source": [
    "### 🔹 Real Life Example of Docker Need"
   ]
  },
  {
   "cell_type": "markdown",
   "id": "c3c58114-a17b-446d-8a91-a0766524211e",
   "metadata": {},
   "source": [
    "Tumhari app ko Python 3.9 aur MySQL 5.7 chahiye.\n",
    "\n",
    "    * Dev machine me Python 3.12 aur MySQL 8.0 installed hai → App crash ❌.\n",
    "\n",
    "    * Agar Docker use karo, to ek container banao jisme Python 3.9 + MySQL 5.7 hai.\n",
    "\n",
    "    * Ab chahe system me kuch bhi ho, container ke andar same environment milega → App chalega ✅."
   ]
  },
  {
   "cell_type": "markdown",
   "id": "eb0412fc-3c4b-40be-8c13-4cbebdfcf486",
   "metadata": {},
   "source": [
    "# 🔹 Docker Image Kya Hai?"
   ]
  },
  {
   "cell_type": "markdown",
   "id": "eb3f8a23-2b0a-4961-9437-77f9224b5cb3",
   "metadata": {},
   "source": [
    "👉 Docker Image ek blueprint (template) hota hai jisme app aur uski sab dependencies defined hoti hain.\n",
    "\n",
    "Isko simple shabdon me bolen to:\n",
    "\n",
    "Image = Recipe Book (khana banane ka pura tareeka likha hua).\n",
    "\n",
    "Container = Us recipe se bana hua khana jo actual me khaya jaa raha hai.\n",
    "\n",
    "🔹 Properties of Docker Image\n",
    "\n",
    "Read-only hoti hai – tum isse directly modify nahi karte.\n",
    "\n",
    "Layered structure hota hai – ek image chhoti chhoti layers se bani hoti hai (base OS, libraries, app code).\n",
    "\n",
    "Reusable hai – ek baar image bana li to usse jitne chahe containers chala sakte ho.\n",
    "\n",
    "Portable hai – ek machine se dusre pe le jao, same chalegi."
   ]
  },
  {
   "cell_type": "raw",
   "id": "8c190059-f39a-4ee3-bb18-3f2f4a1d320e",
   "metadata": {},
   "source": [
    "   [ Docker Image ]  --->  [ Container ]\n",
    "   (Blueprint/Recipe)      (Running App Instance)\n"
   ]
  },
  {
   "cell_type": "markdown",
   "id": "53942cd7-afe9-42e3-bceb-5cb7f4b942dd",
   "metadata": {},
   "source": [
    "# 🔹 Container Kya Hota Hai?"
   ]
  },
  {
   "cell_type": "markdown",
   "id": "548ff8ec-c31c-4ca6-9f49-7bbeff5530c6",
   "metadata": {},
   "source": [
    "👉 Container ek running instance hota hai Docker Image ka.\n",
    "\n",
    "Image = Blueprint/Recipe\n",
    "\n",
    "Container = Us blueprint se bana hua actual app jo chal rahi hai\n",
    "\n",
    "Container basically ek chhota, isolated environment hai jisme tumhari application aur uske dependencies ek saath chalti hain.\n",
    "Har container independent hota hai, aur host OS ke upar chalta hai.\n",
    "\n",
    "🔹 Properties of Container\n",
    "\n",
    "* Lightweight – VM ki tarah pura OS nahi lagata, host OS share karta hai.\n",
    "\n",
    "* Isolated – Ek container ke changes dusre container ko affect nahi karte.\n",
    "\n",
    "* Ephemeral – Container ko stop/delete kar do to wo khatam ho jata hai, but image safe rehti hai.\n",
    "\n",
    "* Multiple Containers – Ek hi image se tum multiple containers run kar sakte ho."
   ]
  },
  {
   "cell_type": "raw",
   "id": "ab91669b-9e2b-4db1-80cf-97061e2f410c",
   "metadata": {},
   "source": [
    "   [ Docker Image ]   --->   [ Container #1 (Running App) ]\n",
    "      (Recipe)                🍔 Pizza 1\n",
    "\n",
    "                          --->   [ Container #2 (Running App) ]\n",
    "                                 🍔 Pizza 2\n",
    "\n",
    "                          --->   [ Container #3 (Running App) ]\n",
    "                                 🍔 Pizza 3\n"
   ]
  },
  {
   "cell_type": "markdown",
   "id": "9d9c9dd8-adf6-4d0c-a70a-87aece5592bf",
   "metadata": {},
   "source": [
    "# 🔹 Docker Images ke Types"
   ]
  },
  {
   "cell_type": "raw",
   "id": "a1a37770-a855-4f2b-a1bd-bcff1af5e000",
   "metadata": {},
   "source": [
    "1. Base Image\n",
    "\n",
    "Ye ekdum ground level image hoti hai.\n",
    "\n",
    "Ye kisi aur image par depend nahi karti.\n",
    "\n",
    "Isme sirf ek basic OS ya runtime hota hai.\n",
    "\n",
    "Example:\n",
    "    * ubuntu\n",
    "    * alpine\n",
    "    * debian\n",
    "    * python:3.10 (officially maintained runtime images)"
   ]
  },
  {
   "cell_type": "markdown",
   "id": "4eee8d85-707f-4e5c-aa85-b049a23a73e5",
   "metadata": {},
   "source": [
    "2. Custom/Private Images\n",
    "\n",
    "Ye tum khud banate ho apne project ke liye.\n",
    "\n",
    "Tum inhe Docker Hub pe private repo me ya apne company ke private registry me push kar sakte ho.\n",
    "\n",
    "Example:\n",
    "* mycompany/pos-app:v1.0\n",
    "* bittu/flask-api:v2"
   ]
  },
  {
   "cell_type": "markdown",
   "id": "70a56cca-38a1-4bbb-b9f4-f1d98bc05a19",
   "metadata": {},
   "source": [
    "# Containerization vs Virtualization:"
   ]
  },
  {
   "cell_type": "markdown",
   "id": "939865f3-2522-43f5-be82-fcfebbac7184",
   "metadata": {},
   "source": [
    "#### Virtualization:\n",
    "Ye ek purani technique hai jisme ek physical machine ke andar multiple virtual machines (VMs) run ki jati hain. Har VM apni full operating system (OS) aur kernel ke saath chalti hai. Isme resource overhead zyada hota hai, kyunki har VM ko apni OS chalani padti hai.\n",
    "\n",
    "#### Containerization:\n",
    "Docker containers ek shared OS kernel ka use karte hain, isliye ye lightweight aur fast hote hain. Ek container apni application ko run karta hai, lekin ye directly underlying OS ke kernel ka use karta hai bina apna alag OS install kiye. Isme resource overhead kam hota hai, aur containers bahut jaldi start hote hain."
   ]
  },
  {
   "cell_type": "markdown",
   "id": "3672d552-78b4-4bc1-9fa1-b2f19a1a4648",
   "metadata": {},
   "source": [
    "# Docker Architecture:"
   ]
  },
  {
   "cell_type": "markdown",
   "id": "7636785e-2897-47d1-a1f9-5a9c7e415e3e",
   "metadata": {},
   "source": [
    "1. Docker Client (CLI / API)\n",
    "\n",
    "* Ye wo tool hai jisse hum Docker ko command dete hain.\n",
    "\n",
    "* Example:\n",
    "    * docker build\n",
    "    * docker run\n",
    "    * docker pull\n",
    "\n",
    "* Client request bhejta hai Docker Daemon ko.\n",
    "\n",
    "2. Docker Daemon (dockerd)\n",
    "\n",
    "* Ye background service hai jo containers ko manage karta hai.\n",
    "\n",
    "* Daemon client ki request receive karta hai aur unko execute karta hai (container create, run, stop, etc.).\n",
    "\n",
    "* Ye images aur containers ka life-cycle handle karta hai.\n",
    "\n",
    "3. Docker Images\n",
    "\n",
    "* Read-only templates hote hain (app + dependencies).\n",
    "\n",
    "* Inse hi containers bante hain.\n",
    "\n",
    "4. Docker Containers\n",
    "\n",
    "* Running instances of images.\n",
    "\n",
    "* Ye actual environment hai jaha tumhari application chalti hai.\n",
    "\n",
    "5. Docker Registry (Public/Private)\n",
    "\n",
    "* Storage jaha Docker images rakhi jaati hain.\n",
    "\n",
    "* Docker Hub sabse popular registry hai.\n",
    "\n",
    "* Tum apne custom/private registry bhi bana sakte ho.\n",
    "\n",
    "* Example:\n",
    "* Client bolta hai: docker pull nginx → Daemon image ko registry se download karega."
   ]
  },
  {
   "cell_type": "raw",
   "id": "304d3619-0c49-44c1-9048-2ad12a389cad",
   "metadata": {},
   "source": [
    "   +------------------+\n",
    "   |   Docker Client  |\n",
    "   |  (CLI / API)     |\n",
    "   +--------+---------+\n",
    "            |\n",
    "            v\n",
    "   +------------------+\n",
    "   |  Docker Daemon   |\n",
    "   | (dockerd)        |\n",
    "   +--------+---------+\n",
    "            |\n",
    "   +--------+---------+\n",
    "   |   Images         |  <--- Stored in Registry (Docker Hub / Private)\n",
    "   +--------+---------+\n",
    "            |\n",
    "   +--------+---------+\n",
    "   |   Containers     |  <--- Running instances of images\n",
    "   +------------------+\n"
   ]
  },
  {
   "cell_type": "markdown",
   "id": "91eadc83-5fc5-4966-a661-961d6511153c",
   "metadata": {},
   "source": [
    "### 🔹 Simple Real-life Analogy\n",
    "\n",
    "Client = Waiter (order leta hai)\n",
    "\n",
    "Daemon = Chef (order execute karta hai)\n",
    "\n",
    "Registry = Recipe book collection (Docker Hub)\n",
    "\n",
    "Image = Recipe (Burger ka recipe)\n",
    "\n",
    "Container = Actual Burger 🍔 jo customer khata hai"
   ]
  },
  {
   "cell_type": "markdown",
   "id": "feb87e00-669c-453a-9f83-8891b20fe1c9",
   "metadata": {},
   "source": [
    "# Docker and VM?"
   ]
  },
  {
   "cell_type": "markdown",
   "id": "145a2375-9f4a-47b1-a9d4-ae7dd8f09fc6",
   "metadata": {},
   "source": [
    "## Architecture:\n",
    "### Virtual Machine (VM):\n",
    "VM ek full operating system ko virtualize karta hai. Isme ek hypervisor hota hai jo multiple virtual machines ko ek physical machine par run karne deta hai. Har VM apna apna OS (Windows, Linux, etc.) run karta hai, jo heavy resource consumption ka sabab ban sakta hai.\n",
    "\n",
    "### Docker:\n",
    "Docker ek containerization tool hai, jo applications ko containers ke andar run karta hai. Containers ek shared OS kernel ka use karte hain, lekin har container apna independent user space hota hai. Ismein operating system ka full virtualisation nahi hota, jo zyada efficient hota hai.\n",
    "\n",
    "## Resource Usage:\n",
    "### VM:\n",
    "VM har bar apna operating system load karta hai, jiska matlab hai ke zyada resources (CPU, memory) ki zarurat hoti hai.\n",
    "\n",
    "### Docker:\n",
    "Docker containers shared OS kernel ka use karte hain, isliye resources ka consumption kaafi kam hota hai. Docker lightweight hota hai aur har container ko quickly start/stop kiya ja sakta hai.\n",
    "\n",
    "## Performance:\n",
    "### VM:\n",
    "VM ki performance thodi kam ho sakti hai, kyunki usme full OS ko run karna padta hai, jisme extra overhead hota hai.\n",
    "\n",
    "### Docker:\n",
    "Docker containers ki performance better hoti hai, kyunki yeh OS ke kernel ko directly access karte hain aur inme overhead kaafi kam hota hai.\n",
    "\n",
    "## Isolation:\n",
    "### VM:\n",
    "VM ek completely isolated environment provide karta hai, jisme different operating systems run karte hain. Har VM apna ek OS, libraries, aur binaries leke aata hai.\n",
    "\n",
    "### Docker:\n",
    "Docker containers mein bhi isolation hota hai, lekin yeh OS kernel ko share karte hain, isliye thoda less isolated hote hain as compared to VMs.\n",
    "\n",
    "## Use Cases:\n",
    "### VM:\n",
    "Agar aapko ek complete, separate operating system chahiye ho (jaise ek Linux aur ek Windows system ek hi machine par chalana), toh VM useful hote hain.\n",
    "\n",
    "### Docker:\n",
    "Agar aapko lightweight, scalable aur faster application deployment chahiye ho (especially microservices architecture mein), toh Docker ideal hai.\n",
    "\n",
    "## Portability:\n",
    "### VM:\n",
    "VMs ko move karna thoda mushkil ho sakta hai, kyunki har VM ka apna OS aur hardware abstraction layer hota hai.\n",
    "\n",
    "### Docker:\n",
    "Docker containers ko easily move kiya ja sakta hai, kyunki containers ek standardized environment mein run karte hain, jo ek machine se doosre machine par easily transfer ho sakta hai.\n",
    "\n",
    "## Summary:\n",
    "Agar aapko full OS ki isolation aur virtualization chahiye, toh VM ka use karein. Agar aapko lightweight, fast aur efficient application deployment chahiye ho, toh Docker better option hai."
   ]
  },
  {
   "cell_type": "markdown",
   "id": "d9759bf7-588d-466b-a9cf-144f410c97a9",
   "metadata": {},
   "source": [
    "# 🔹 Quick Comparison Table"
   ]
  },
  {
   "cell_type": "markdown",
   "id": "16e0e674-a747-468e-991d-7db3c9eb521d",
   "metadata": {},
   "source": [
    "| Feature        | VM (Virtual Machine)            | Docker (Container)         |\n",
    "| -------------- | ------------------------------- | -------------------------- |\n",
    "| OS Requirement | Har VM apna alag OS rakhta hai  | Host OS share hota hai     |\n",
    "| Size           | Heavy (GBs)                     | Lightweight (MBs)          |\n",
    "| Startup Time   | Minutes                         | Seconds                    |\n",
    "| Performance    | Thoda slow                      | Near-native speed          |\n",
    "| Resource Usage | Zyada RAM/CPU consume karta hai | Kam resource use karta hai |\n",
    "| Portability    | Limited                         | Highly portable            |\n"
   ]
  },
  {
   "cell_type": "markdown",
   "id": "49b71fc1-fbfc-4e90-8598-579ddabd11d0",
   "metadata": {},
   "source": [
    "# VM Architecture:-"
   ]
  },
  {
   "cell_type": "raw",
   "id": "836f620d-1172-4367-a7f4-c39a0c12e09f",
   "metadata": {},
   "source": [
    "+-------------------------+\n",
    "|     Hardware            |\n",
    "+-------------------------+\n",
    "|     Host OS             |\n",
    "+-------------------------+\n",
    "|     Hypervisor          |\n",
    "+-------------------------+\n",
    "| Guest OS | Guest OS     |\n",
    "|   App    |   App        |\n",
    "+-------------------------+\n"
   ]
  },
  {
   "cell_type": "markdown",
   "id": "e55c9e3c-8b0e-487e-97fc-e2f77a453f76",
   "metadata": {},
   "source": [
    "# Docker Architecture"
   ]
  },
  {
   "cell_type": "raw",
   "id": "6810fc39-1792-4b82-baa4-7d7de21a40d6",
   "metadata": {},
   "source": [
    "+-------------------------+\n",
    "|     Hardware            |\n",
    "+-------------------------+\n",
    "|     Host OS             |\n",
    "+-------------------------+\n",
    "|   Docker Engine         |\n",
    "+-------------------------+\n",
    "| Container | Container   |\n",
    "|   App     |   App       |\n",
    "+-------------------------+\n"
   ]
  },
  {
   "cell_type": "markdown",
   "id": "b8e545d7-9e9a-4bae-a668-0b9ae87d5b56",
   "metadata": {},
   "source": [
    "# DockerFile"
   ]
  },
  {
   "cell_type": "markdown",
   "id": "afc2344c-6fd4-4519-ad5d-e5098d673128",
   "metadata": {},
   "source": [
    "Dockerfile ek text file hota hai jo instructions ka sequence define karta hai, jisse Docker container image build hota hai. Is file mein hum ye specify karte hain ki container ko kaise build karna hai, kaunse software install karne hain, kaunse files copy karni hain, aur container ko run karne ka tarika kya hoga.\n",
    "\n",
    "Dockerfile mein kuch common instructions hoti hain:\n",
    "\n",
    " * FROM: Ye base image specify karta hai jisse hum apna image banaenge. Jaise, FROM ubuntu:20.04.\n",
    "\n",
    "* RUN: Ye command container ke andar kuch operations run karne ke liye use hota hai, jaise software install karna.\n",
    "\n",
    "* COPY: Isse hum local files ko container ke andar copy kar sakte hain.\n",
    "\n",
    "* WORKDIR: Ye container mein ek specific directory set karta hai, jahan pe hum kaam karenge.\n",
    "\n",
    "* CMD: Ye container ke start hone par default command specify karta hai, jo run hoga.\n",
    "\n",
    "* EXPOSE: Ye specify karta hai kaunse ports ko container expose karega."
   ]
  },
  {
   "cell_type": "raw",
   "id": "68953b82-2e78-4773-8a2c-177f6e5192eb",
   "metadata": {},
   "source": [
    "# Step 1: Base Image\n",
    "FROM python:3.10\n",
    "\n",
    "# Step 2: Working Directory\n",
    "WORKDIR /app\n",
    "\n",
    "# Step 3: Copy app code\n",
    "COPY app.py .\n",
    "\n",
    "# Step 4: Run command when container starts\n",
    "CMD [\"python\", \"app.py\"]"
   ]
  },
  {
   "cell_type": "markdown",
   "id": "e170ceae-2fd5-4d77-bcac-e2d1412b319e",
   "metadata": {},
   "source": [
    "### Dockerfile Workflow"
   ]
  },
  {
   "cell_type": "raw",
   "id": "3429d9ce-1c22-41c5-b40d-ae5ea941bf49",
   "metadata": {},
   "source": [
    "Dockerfile (instructions)\n",
    "        |\n",
    "        v\n",
    "docker build   --->   Docker Image (template)\n",
    "        |\n",
    "        v\n",
    "docker run     --->   Docker Container (running instance)\n"
   ]
  },
  {
   "cell_type": "markdown",
   "id": "c7dd67ea-e72f-4854-b298-b2ff35c2832e",
   "metadata": {},
   "source": [
    "### Dockerfile ka Purpose\n",
    "\n",
    "* Automate Image Creation → Har system pe manually setup karne ki zarurat nahi.\n",
    "\n",
    "* Consistency → Dev, Test, Production sab jagah same environment.\n",
    "\n",
    "* Portability → Ek baar Dockerfile likh lo, kahin bhi image build karke app chala lo.\n",
    "\n",
    "* Versioning → Tumhare Dockerfile ke sath exact dependencies track hoti hain."
   ]
  },
  {
   "cell_type": "markdown",
   "id": "927e89a5-e912-443b-9e5f-f9f34e35421f",
   "metadata": {},
   "source": [
    "# Docker Compose"
   ]
  },
  {
   "cell_type": "markdown",
   "id": "bbda8c5c-b56e-4868-9871-81c04e32193f",
   "metadata": {},
   "source": [
    "Docker Compose ek tool hai jo Docker containers ko manage karne ke liye use hota hai. Iska main purpose multiple containers ko ek sath configure karna aur run karna hai. Docker Compose aapko ek configuration file (docker-compose.yml) ke zariye define karne ki suvidha deta hai, jisme aap apne containers, networks, aur volumes ko ek sath manage kar sakte ho.\n",
    "\n",
    "\n",
    "Docker Compose ek tool hai jo multiple containers ko ek sath manage aur run karne ke liye use hota hai."
   ]
  },
  {
   "cell_type": "markdown",
   "id": "f09de1f9-caf7-4acd-a261-e9958a0e33d6",
   "metadata": {},
   "source": [
    "#### Docker Compose ka use kab hota hai?\n",
    "Jab aapko ek se zyada containers ko ek sath run karna ho.\n",
    "\n",
    "Jab aapko apne applications ko easily scale karna ho.\n",
    "\n",
    "Jab aapko apne app ke multiple services ko ek configuration file ke through manage karna ho.\n",
    "\n",
    "#### Docker Compose kaise kaam karta hai?\n",
    "Aap ek docker-compose.yml file banate ho, jisme aapko containers, networks, aur volumes ka description diya jata hai.\n",
    "\n",
    "Phir, ek simple command docker-compose up ke zariye aap apne saare containers ko start kar sakte ho."
   ]
  },
  {
   "cell_type": "markdown",
   "id": "d2d6237e-a4eb-4456-8118-5cc9432db387",
   "metadata": {},
   "source": [
    "# docker-compose.yml"
   ]
  },
  {
   "cell_type": "raw",
   "id": "d8abc282-197e-4d3a-ad74-ec71aee5c8fe",
   "metadata": {},
   "source": [
    "version: \"3.8\"\n",
    "\n",
    "services:\n",
    "  web:\n",
    "    build: .\n",
    "    ports:\n",
    "      - \"5000:5000\"\n",
    "    depends_on:\n",
    "      - db\n",
    "    environment:\n",
    "      - DATABASE_URL=mysql://root:password@db/mydb\n",
    "\n",
    "  db:\n",
    "    image: mysql:8\n",
    "    environment:\n",
    "      MYSQL_ROOT_PASSWORD: password\n",
    "      MYSQL_DATABASE: mydb\n",
    "    ports:\n",
    "      - \"3306:3306\"\n",
    "\n",
    "  redis:\n",
    "    image: redis:alpine\n",
    "    ports:\n",
    "      - \"6379:6379\"\n"
   ]
  },
  {
   "cell_type": "markdown",
   "id": "6a0bd3a4-b567-4a34-b134-499d31e50d95",
   "metadata": {},
   "source": [
    "# 🔹 Difference: Dockerfile vs Docker Compose"
   ]
  },
  {
   "cell_type": "markdown",
   "id": "b1f4d4c2-d30c-433a-a3c9-a7b33fe0fce0",
   "metadata": {},
   "source": [
    "| Feature     | Dockerfile                                        | Docker Compose                                      |\n",
    "| ----------- | ------------------------------------------------- | --------------------------------------------------- |\n",
    "| **Purpose** | Ek single image kaise build hogi define karta hai | Multiple containers ko ek sath run/manage karta hai |\n",
    "| **Format**  | Text file (instructions)                          | YAML file                                           |\n",
    "| **Scope**   | Single app/service                                | Complete multi-container app                        |\n",
    "| **Command** | `docker build`, `docker run`                      | `docker-compose up`, `docker-compose down`          |\n"
   ]
  },
  {
   "cell_type": "markdown",
   "id": "c19b2e56-c5ef-4245-b669-c076d9197298",
   "metadata": {},
   "source": [
    "###  🔹 Commands"
   ]
  },
  {
   "cell_type": "raw",
   "id": "950e8833-8817-42d0-92d6-4bb48cbcaff9",
   "metadata": {},
   "source": [
    "docker-compose up → Sab containers start karo.\n",
    "\n",
    "docker-compose down → Sab containers stop aur remove karo.\n",
    "\n",
    "docker-compose ps → Kaunse containers chal rahe hain dekhna.\n",
    "\n",
    "docker-compose logs → Sabka combined log dekhna."
   ]
  },
  {
   "cell_type": "raw",
   "id": "c1003f8a-260c-46f0-8e43-dc0abb1aaddb",
   "metadata": {},
   "source": [
    "docker compose -f fileName.yaml up -d ===> run in detach mode\n",
    "\n",
    "docker compose -f fileName.yaml down ===> remove all container"
   ]
  },
  {
   "cell_type": "markdown",
   "id": "b15f43f1-a89c-468f-be56-7e5552a3626b",
   "metadata": {},
   "source": [
    "# Docker Command Notes"
   ]
  },
  {
   "cell_type": "markdown",
   "id": "588ce255-cc4a-4fc6-9e79-31ef52279356",
   "metadata": {},
   "source": [
    "### Docker Version & Info"
   ]
  },
  {
   "cell_type": "markdown",
   "id": "1b0efff2-f69f-4a27-8973-8ca2f8442264",
   "metadata": {},
   "source": [
    "<b> docker --version</b> → Docker ka version dikhata hai.\n",
    "\n",
    "<b>docker info</b> → System ka Docker environment details (containers, images, driver, etc.)."
   ]
  },
  {
   "cell_type": "markdown",
   "id": "e6d8b44c-4d83-40f7-9863-70fbb2d54111",
   "metadata": {},
   "source": [
    "### Image Commands"
   ]
  },
  {
   "cell_type": "markdown",
   "id": "da4c3eeb-1aeb-400c-a45b-ae90e0f89773",
   "metadata": {},
   "source": [
    "docker images → Sab available images ki list dikhata hai.\n",
    "\n",
    "docker pull <image_name> → Docker Hub se image download karta hai.\n",
    "\n",
    "    * Flag: :tag → Specific version pull karne ke liye (docker pull python:3.10).\n",
    "\n",
    "docker rmi <image_id> → Image delete karta hai.\n",
    "\n",
    "    * Flag: -f → Force delete."
   ]
  },
  {
   "cell_type": "markdown",
   "id": "053848cc-a580-4999-b960-ff88aee108ee",
   "metadata": {},
   "source": [
    "### Container Commands"
   ]
  },
  {
   "cell_type": "markdown",
   "id": "4a3cc437-c863-4ff0-93e2-475e196f2137",
   "metadata": {},
   "source": [
    "* docker ps → Running containers ki list.\n",
    "\n",
    "    * Flag: -a → All containers (stopped bhi).\n",
    "\n",
    "    * Flag: -q → Sirf IDs show karega.\n",
    "\n",
    "* docker run <image> → Container start karta hai.\n",
    "\n",
    "    * Flag: -d → Detached mode (background).\n",
    "\n",
    "    * Flag: -it → Interactive + TTY (terminal access).\n",
    "\n",
    "    * Flag: --name mycontainer → Custom container name.\n",
    "\n",
    "    * Flag: -p 8080:80 → Port mapping (host:container).\n",
    "\n",
    "    * Flag: -v host_path:container_path → Volume mount.\n",
    "\n",
    "    * Flag: --rm → Stop hone ke baad container delete.\n",
    "\n",
    "* docker stop <container_id> → Running container stop.\n",
    "\n",
    "* docker start <container_id> → Stopped container start.\n",
    "\n",
    "* docker restart <container_id> → Restart container.\n",
    "\n",
    "* docker rm <container_id> → Container delete.\n",
    "\n",
    "    * Flag: -f → Force delete even if running.\n",
    "\n",
    "* docker exec -it <container_id> bash → Running container ke andar shell open karna."
   ]
  },
  {
   "cell_type": "markdown",
   "id": "37b432f4-9458-4881-9599-901ffb69f265",
   "metadata": {},
   "source": [
    "### Build Commands"
   ]
  },
  {
   "cell_type": "markdown",
   "id": "28d029ba-cc62-4e8c-a9c8-c0e216f8bf93",
   "metadata": {},
   "source": [
    "* docker build -t myimage . → Dockerfile se image build.\n",
    "\n",
    "    * Flag: -t → Tag name dena (e.g. myapp:v1).\n",
    "\n",
    "    * Flag: -f Dockerfile.dev → Custom Dockerfile use karna."
   ]
  },
  {
   "cell_type": "markdown",
   "id": "02615ee0-4461-480a-a4c1-f1c5d3be3a0a",
   "metadata": {},
   "source": [
    "### Logs & Stats"
   ]
  },
  {
   "cell_type": "markdown",
   "id": "adf59b1f-40cf-4ec6-89aa-3aa4e7278eab",
   "metadata": {},
   "source": [
    "* docker logs <container_id> → Container ke logs dikhata hai.\n",
    "\n",
    "    * Flag: -f → Real-time logs (follow).\n",
    "\n",
    "* docker stats → CPU, memory usage live monitor."
   ]
  },
  {
   "cell_type": "markdown",
   "id": "be65071e-4959-4b87-804d-14586791fdf9",
   "metadata": {},
   "source": [
    "### Network Commands"
   ]
  },
  {
   "cell_type": "markdown",
   "id": "3f3637ce-cf43-49f6-b43d-7528b6a9052c",
   "metadata": {},
   "source": [
    "* docker network ls → Sab networks ki list.\n",
    "\n",
    "* docker network inspect <network> → Network details.\n",
    "\n",
    "* docker network rm <network> → Network delete.\n",
    "\n",
    "* docker network create mynetwork → Custom network create."
   ]
  },
  {
   "cell_type": "markdown",
   "id": "9d0efc11-74c6-4122-a7da-897214b0f87f",
   "metadata": {},
   "source": [
    "### Volume Commands"
   ]
  },
  {
   "cell_type": "markdown",
   "id": "3b378499-6ce2-466e-add8-084d66bca11e",
   "metadata": {},
   "source": [
    "* docker volume ls → Sab volumes ki list.\n",
    "\n",
    "* docker volume create myvol → Volume create.\n",
    "\n",
    "* docker volume inspect myvol → Volume details.\n",
    "\n",
    "* docker volume rm myvol → Volume delete."
   ]
  },
  {
   "cell_type": "markdown",
   "id": "7efde9ca-301c-4854-ac9c-cd46143be346",
   "metadata": {},
   "source": [
    "### System Cleanup"
   ]
  },
  {
   "cell_type": "markdown",
   "id": "3bb2ee3d-39df-4dd4-ab55-f0abf01109f0",
   "metadata": {},
   "source": [
    "* docker system df → Docker ka disk usage check.\n",
    "\n",
    "* docker system prune → Unused containers, images, networks clean.\n",
    "\n",
    "    * Flag: -a → Sab unused images bhi delete."
   ]
  },
  {
   "cell_type": "markdown",
   "id": "5008a356-df5c-4823-81c4-cf18deb6ecc7",
   "metadata": {},
   "source": [
    "### Save & Load"
   ]
  },
  {
   "cell_type": "markdown",
   "id": "032efa99-8741-4435-b4a2-70c1374dbbe2",
   "metadata": {},
   "source": [
    "* docker save -o myimage.tar myimage:latest → Image ko tar file me save.\n",
    "\n",
    "* docker load -i myimage.tar → Tar file se image load.\n",
    "\n",
    "* docker export <container_id> > container.tar → Container ko tar file me export.\n",
    "\n",
    "* docker import container.tar → Tar se new image import."
   ]
  },
  {
   "cell_type": "markdown",
   "id": "0a6c853d-14ec-46f5-9f37-cfe6cef60683",
   "metadata": {},
   "source": [
    "### Compose (agar docker-compose use kar rahe ho)"
   ]
  },
  {
   "cell_type": "markdown",
   "id": "7b927e03-9896-427b-a592-8a8164e59d48",
   "metadata": {},
   "source": [
    "* docker-compose up → Compose file ke containers start.\n",
    "\n",
    "    * Flag: -d → Detached mode.\n",
    "\n",
    "* docker-compose down → Containers + network stop/remove.\n",
    "\n",
    "* docker-compose ps → Compose ke containers list.\n",
    "\n",
    "* docker-compose logs -f → Live logs.\n",
    "\n",
    "* docker-compose build → Services rebuild."
   ]
  },
  {
   "cell_type": "markdown",
   "id": "cdc7b124-d97d-4b5d-9576-960c3238943b",
   "metadata": {},
   "source": [
    "# ⚡ Shortcut Note:"
   ]
  },
  {
   "cell_type": "markdown",
   "id": "5520b4d8-c8dc-4bba-8ef9-6041c6ed06ae",
   "metadata": {},
   "source": [
    "<b>Image ke liye</b> → docker pull, docker images, docker rmi.\n",
    "\n",
    "<b>Container ke liye</b> → docker run, docker ps, docker stop/start/restart/rm.\n",
    "\n",
    "<b>Build ke liye</b> → docker build.\n",
    "\n",
    "<b>Debug ke liye</b> → docker logs, docker exec.\n",
    "\n",
    "<b>Cleanup ke liye</b> → docker system prune."
   ]
  },
  {
   "cell_type": "markdown",
   "id": "31e04cbd-d689-4e00-bd78-84a20a2f75de",
   "metadata": {},
   "source": [
    "# Some Most Important Commands"
   ]
  },
  {
   "cell_type": "raw",
   "id": "0798a01f-14ab-48aa-839c-2f9a71852464",
   "metadata": {},
   "source": [
    "# Docker ka version check\n",
    "docker --version\n",
    "\n",
    "# System ka Docker info (images, containers, networks etc.)\n",
    "docker info\n",
    "\n",
    "# Available images list\n",
    "docker images\n",
    "\n",
    "# Image download (latest)\n",
    "docker pull ubuntu\n",
    "\n",
    "# Specific version download\n",
    "docker pull python:3.10\n",
    "\n",
    "# Image delete\n",
    "docker rmi <image_id>\n",
    "\n",
    "# Force delete image\n",
    "docker rmi -f <image_id>\n",
    "\n",
    "# Running containers list\n",
    "docker ps\n",
    "\n",
    "# All containers list (stopped bhi)\n",
    "docker ps -a\n",
    "\n",
    "# Sirf IDs show kare\n",
    "docker ps -q\n",
    "\n",
    "# Container run\n",
    "docker run ubuntu\n",
    "\n",
    "# Container run with custom options\n",
    "docker run -it --name mycontainer ubuntu bash\n",
    "\n",
    "# Detached mode (background me run)\n",
    "docker run -d nginx\n",
    "\n",
    "# Port mapping\n",
    "docker run -p 8080:80 nginx\n",
    "\n",
    "# Volume mount\n",
    "docker run -v /host/path:/container/path ubuntu\n",
    "\n",
    "# Stop container\n",
    "docker stop <container_id>\n",
    "\n",
    "# Start container\n",
    "docker start <container_id>\n",
    "\n",
    "# Restart container\n",
    "docker restart <container_id>\n",
    "\n",
    "# Remove container\n",
    "docker rm <container_id>\n",
    "\n",
    "# Force remove container\n",
    "docker rm -f <container_id>\n",
    "\n",
    "# Enter container shell\n",
    "docker exec -it <container_id> bash\n",
    "\n",
    "\n",
    "# Dockerfile se image build\n",
    "docker build -t myapp .\n",
    "\n",
    "# Custom Dockerfile se build\n",
    "docker build -t myapp -f Dockerfile.dev .\n",
    "\n",
    "\n",
    "# Container logs\n",
    "docker logs <container_id>\n",
    "\n",
    "# Real-time logs\n",
    "docker logs -f <container_id>\n",
    "\n",
    "# Live stats (CPU, memory)\n",
    "docker stats\n",
    "\n",
    "# List all networks\n",
    "docker network ls\n",
    "\n",
    "# Inspect network details\n",
    "docker network inspect <network_name>\n",
    "\n",
    "# Create new network\n",
    "docker network create mynetwork\n",
    "\n",
    "# Remove network\n",
    "docker network rm mynetwork\n",
    "\n",
    "# List volumes\n",
    "docker volume ls\n",
    "\n",
    "# Create volume\n",
    "docker volume create myvol\n",
    "\n",
    "# Inspect volume\n",
    "docker volume inspect myvol\n",
    "\n",
    "# Remove volume\n",
    "docker volume rm myvol\n",
    "\n",
    "\n",
    "# Disk usage check\n",
    "docker system df\n",
    "\n",
    "# Remove unused containers, networks, images\n",
    "docker system prune\n",
    "\n",
    "# Remove sab unused (dangling + unused images bhi)\n",
    "docker system prune -a\n",
    "\n",
    "\n",
    "# Save image to tar file\n",
    "docker save -o myimage.tar myimage:latest\n",
    "\n",
    "# Load image from tar\n",
    "docker load -i myimage.tar\n",
    "\n",
    "# Export container\n",
    "docker export <container_id> > container.tar\n",
    "\n",
    "# Import tar as new image\n",
    "docker import container.tar\n",
    "\n",
    "\n",
    "# Save image to tar file\n",
    "docker save -o myimage.tar myimage:latest\n",
    "\n",
    "# Load image from tar\n",
    "docker load -i myimage.tar\n",
    "\n",
    "# Export container\n",
    "docker export <container_id> > container.tar\n",
    "\n",
    "# Import tar as new image\n",
    "docker import container.tar\n"
   ]
  },
  {
   "cell_type": "markdown",
   "id": "de7fad33-826a-43a5-8b0b-24eeada0e30f",
   "metadata": {},
   "source": [
    "# .dockerignore"
   ]
  },
  {
   "cell_type": "markdown",
   "id": "02a18731-4a7b-44cc-8c92-d725f250ff2c",
   "metadata": {},
   "source": [
    "👉 .dockerignore ek special file hoti hai jo tum Dockerfile ke sath project root me rakhte ho.\n",
    "Ye batati hai ki kaunse files/folders ko ignore karna hai jab tum image build karte ho (docker build).\n",
    "\n",
    "Matlab: Ye file exactly .gitignore ke jaisa hi kaam karti hai.\n",
    "\n",
    "Ye ensure karti hai ki unnecessary files (logs, cache, temp files) Docker image ke andar copy na ho."
   ]
  },
  {
   "cell_type": "markdown",
   "id": "cd6a5927-f622-4ab2-8e15-6f8a3d344d2f",
   "metadata": {},
   "source": [
    "### 🔹 Kyun Zaroori Hai?"
   ]
  },
  {
   "cell_type": "markdown",
   "id": "27a8cfd8-a7a8-4803-8a11-f8c81d5a18c1",
   "metadata": {},
   "source": [
    "1. Image Size kam hota hai → Agar tum unnecessary files copy nahi karoge to image chhoti hogi. \n",
    "\n",
    "2. Build Speed tez hoti hai → Kam files copy hongi to build fast hoga.\n",
    "\n",
    "3. Security → Sensitive files (passwords, configs, .env etc.) image ke andar accidentally copy nahi hongi."
   ]
  },
  {
   "cell_type": "markdown",
   "id": "61cc1d63-4fb6-4f07-ab9d-5f16a63837fe",
   "metadata": {},
   "source": [
    "### Example: .dockerignore"
   ]
  },
  {
   "cell_type": "raw",
   "id": "6b04588f-cbc4-463f-9836-6656f1789d7f",
   "metadata": {},
   "source": [
    "myapp/\n",
    "│── app.py\n",
    "│── requirements.txt\n",
    "│── Dockerfile\n",
    "│── .dockerignore\n",
    "│── node_modules/\n",
    "│── .git/\n",
    "│── debug.log\n"
   ]
  },
  {
   "cell_type": "markdown",
   "id": "9308ff96-2b2b-471c-94b2-8ffc7a043edb",
   "metadata": {},
   "source": [
    "# Docker Network Kya Hai?"
   ]
  },
  {
   "cell_type": "markdown",
   "id": "2abdd4d9-fca9-4a33-8026-e90c2f9af191",
   "metadata": {},
   "source": [
    "Docker Network ek communication system hai jo containers ko ek dusre se aur bahar ki duniya (host/internet) se connect karta hai.\n",
    "\n",
    "* Soch le tu ek ghar bana raha hai 🏠 (container).\n",
    "* Us ghar me electricity, paani aur internet ka connection chahiye.\n",
    "* Ye connection system hi Docker Network hai."
   ]
  },
  {
   "cell_type": "markdown",
   "id": "0c76b4f9-835f-462c-8faa-3c6a39b4fd4e",
   "metadata": {},
   "source": [
    "# Docker Volume Kya Hai?"
   ]
  },
  {
   "cell_type": "markdown",
   "id": "bc9b6a90-a0e6-4dd8-a3a7-807df0c39fb6",
   "metadata": {},
   "source": [
    "👉 Docker Volume ek storage mechanism hai jo container ke data ko persist (permanent) banata hai.\n",
    "\n",
    "* Normal case me:\n",
    "\n",
    "    * Agar tu container delete karega → uske andar ka data bhi chala jaata hai ❌\n",
    "\n",
    "    * Lekin agar tu Volume use karega → data container ke bahar safe rahega ✅\n",
    "\n",
    "Matlab: Volume ek folder/directory hota hai jo Docker manage karta hai aur usme data store karta hai, taki container delete/restart hone ke baad bhi data na jaye."
   ]
  },
  {
   "cell_type": "markdown",
   "id": "cdb864f0-dc29-45d6-b7a2-c42eb059656b",
   "metadata": {},
   "source": [
    "### Volume Ki Zarurat Kyun?"
   ]
  },
  {
   "cell_type": "markdown",
   "id": "e2a01bcb-ec19-4b31-8212-409e81a71eda",
   "metadata": {},
   "source": [
    "1. Persistence (Permanent Data)\n",
    "\n",
    "    * Agar tum MySQL container chalaoge bina volume ke → DB data container ke andar store hoga.\n",
    "\n",
    "    * Container delete → saara DB data bhi delete ❌\n",
    "\n",
    "    * Agar volume use karoge → container delete hone ke baad bhi DB data safe ✅\n",
    "\n",
    "2. Sharing Data Between Containers\n",
    "\n",
    "    * Multiple containers ek hi volume use karke ek hi data ko access kar sakte hain.\n",
    "\n",
    "3. Backup & Restore Easy\n",
    "\n",
    "    * Volume ko easily backup karke dusre system me restore kiya ja sakta hai."
   ]
  },
  {
   "cell_type": "markdown",
   "id": "0c581372-5049-4bb3-99ff-4c1ea09ef861",
   "metadata": {},
   "source": [
    "#### Volume Container Me Kaise Use Karte Hain?"
   ]
  },
  {
   "cell_type": "raw",
   "id": "c8dcfaaf-9bcd-43ea-9667-d8ff87723912",
   "metadata": {},
   "source": [
    "docker run -d \\\n",
    "  --name mydb \\\n",
    "  -v myvol:/var/lib/mysql \\\n",
    "  mysql:latest"
   ]
  },
  {
   "cell_type": "markdown",
   "id": "8258155c-a92e-460a-81d4-e1922f09df08",
   "metadata": {},
   "source": [
    "* myvol = Docker volume ka naam\n",
    "\n",
    "* /var/lib/mysql = container ke andar DB data store hone ka path\n",
    "\n",
    "* Matlab ab data container ke bahar myvol me save hoga."
   ]
  },
  {
   "cell_type": "markdown",
   "id": "b98f8950-b005-4cf6-9f1f-9e74a4933320",
   "metadata": {},
   "source": [
    "## Volume ke Types"
   ]
  },
  {
   "cell_type": "markdown",
   "id": "30674951-2be4-4270-8a95-4bac75455b11",
   "metadata": {},
   "source": [
    "1. Named Volume (Recommended ✅)\n",
    "\n",
    "    * Docker manage karega storage location."
   ]
  },
  {
   "cell_type": "raw",
   "id": "62a8c27c-2407-4100-8e18-c74072125382",
   "metadata": {},
   "source": [
    "docker run -v myvol:/app/data nginx"
   ]
  },
  {
   "cell_type": "markdown",
   "id": "1cce5919-f85e-4f77-b913-733f9b241396",
   "metadata": {},
   "source": [
    "2. Anonymous Volume\n",
    "\n",
    "    * Docker automatically ek random naam assign karta hai."
   ]
  },
  {
   "cell_type": "raw",
   "id": "c130caee-4dbe-4923-8cac-2ee5faf413d6",
   "metadata": {},
   "source": [
    "docker run -v /app/data nginx"
   ]
  },
  {
   "cell_type": "markdown",
   "id": "d1c12a54-93b8-4bfd-be86-98c6d1b47482",
   "metadata": {},
   "source": [
    "3. Bind Mount\n",
    "\n",
    "    * Host machine ka ek specific folder directly container me mount karna."
   ]
  },
  {
   "cell_type": "raw",
   "id": "c1410705-2393-4904-b974-b9e2e69f64c4",
   "metadata": {},
   "source": [
    "docker run -v /home/user/data:/app/data nginx"
   ]
  },
  {
   "cell_type": "markdown",
   "id": "3030ce61-b00e-45e5-b96b-e9a2d29bec12",
   "metadata": {},
   "source": [
    "Named Volumes = Docker ke control me\n",
    "\n",
    "Bind Mounts = Host ka specific folder container me use karna\n",
    "\n",
    "Anonymous Volumes = Randomly created (kam use hote hain)"
   ]
  }
 ],
 "metadata": {
  "kernelspec": {
   "display_name": "Python 3 (ipykernel)",
   "language": "python",
   "name": "python3"
  },
  "language_info": {
   "codemirror_mode": {
    "name": "ipython",
    "version": 3
   },
   "file_extension": ".py",
   "mimetype": "text/x-python",
   "name": "python",
   "nbconvert_exporter": "python",
   "pygments_lexer": "ipython3",
   "version": "3.12.10"
  }
 },
 "nbformat": 4,
 "nbformat_minor": 5
}
